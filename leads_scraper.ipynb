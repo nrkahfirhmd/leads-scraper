{
  "nbformat": 4,
  "nbformat_minor": 0,
  "metadata": {
    "colab": {
      "provenance": []
    },
    "kernelspec": {
      "name": "python3",
      "display_name": "Python 3"
    },
    "language_info": {
      "name": "python"
    }
  },
  "cells": [
    {
      "cell_type": "code",
      "source": [
        "!pip install selenium\n",
        "!pip install python-dotenv"
      ],
      "metadata": {
        "colab": {
          "base_uri": "https://localhost:8080/"
        },
        "id": "FhQKDlwwjRYM",
        "outputId": "1c015aa6-16fa-4578-a520-00bb6e437423"
      },
      "execution_count": 330,
      "outputs": [
        {
          "output_type": "stream",
          "name": "stdout",
          "text": [
            "Requirement already satisfied: selenium in /usr/local/lib/python3.11/dist-packages (4.33.0)\n",
            "Requirement already satisfied: urllib3~=2.4.0 in /usr/local/lib/python3.11/dist-packages (from urllib3[socks]~=2.4.0->selenium) (2.4.0)\n",
            "Requirement already satisfied: trio~=0.30.0 in /usr/local/lib/python3.11/dist-packages (from selenium) (0.30.0)\n",
            "Requirement already satisfied: trio-websocket~=0.12.2 in /usr/local/lib/python3.11/dist-packages (from selenium) (0.12.2)\n",
            "Requirement already satisfied: certifi>=2025.4.26 in /usr/local/lib/python3.11/dist-packages (from selenium) (2025.6.15)\n",
            "Requirement already satisfied: typing_extensions~=4.13.2 in /usr/local/lib/python3.11/dist-packages (from selenium) (4.13.2)\n",
            "Requirement already satisfied: websocket-client~=1.8.0 in /usr/local/lib/python3.11/dist-packages (from selenium) (1.8.0)\n",
            "Requirement already satisfied: attrs>=23.2.0 in /usr/local/lib/python3.11/dist-packages (from trio~=0.30.0->selenium) (25.3.0)\n",
            "Requirement already satisfied: sortedcontainers in /usr/local/lib/python3.11/dist-packages (from trio~=0.30.0->selenium) (2.4.0)\n",
            "Requirement already satisfied: idna in /usr/local/lib/python3.11/dist-packages (from trio~=0.30.0->selenium) (3.10)\n",
            "Requirement already satisfied: outcome in /usr/local/lib/python3.11/dist-packages (from trio~=0.30.0->selenium) (1.3.0.post0)\n",
            "Requirement already satisfied: sniffio>=1.3.0 in /usr/local/lib/python3.11/dist-packages (from trio~=0.30.0->selenium) (1.3.1)\n",
            "Requirement already satisfied: wsproto>=0.14 in /usr/local/lib/python3.11/dist-packages (from trio-websocket~=0.12.2->selenium) (1.2.0)\n",
            "Requirement already satisfied: pysocks!=1.5.7,<2.0,>=1.5.6 in /usr/local/lib/python3.11/dist-packages (from urllib3[socks]~=2.4.0->selenium) (1.7.1)\n",
            "Requirement already satisfied: h11<1,>=0.9.0 in /usr/local/lib/python3.11/dist-packages (from wsproto>=0.14->trio-websocket~=0.12.2->selenium) (0.16.0)\n",
            "Requirement already satisfied: python-dotenv in /usr/local/lib/python3.11/dist-packages (1.1.1)\n"
          ]
        }
      ]
    },
    {
      "cell_type": "code",
      "execution_count": 331,
      "metadata": {
        "id": "XOI9XexeZ_8l"
      },
      "outputs": [],
      "source": [
        "from selenium import webdriver\n",
        "from selenium.webdriver.chrome.options import Options\n",
        "from selenium.webdriver.common.by import By\n",
        "from bs4 import BeautifulSoup\n",
        "import re\n",
        "import time\n",
        "import tempfile\n",
        "from tqdm import tqdm\n",
        "from pprint import pprint\n",
        "import google.generativeai as genai\n",
        "import os\n",
        "from dotenv import load_dotenv\n",
        "from selenium.webdriver.support.ui import WebDriverWait\n",
        "from selenium.webdriver.support import expected_conditions as EC"
      ]
    },
    {
      "cell_type": "code",
      "source": [
        "load_dotenv()\n",
        "\n",
        "genai.configure(api_key=os.environ[\"GOOGLE_API_KEY\"])"
      ],
      "metadata": {
        "id": "jWxgeH-ut8R0"
      },
      "execution_count": 332,
      "outputs": []
    },
    {
      "cell_type": "code",
      "source": [
        "def init_driver(headless=True):\n",
        "  options = Options()\n",
        "  if headless:\n",
        "    options.add_argument(\"--headless\")\n",
        "  options.add_argument(\"--disable-gpu\")\n",
        "  options.add_argument(\"--window-size=1920,1080\")\n",
        "  options.add_argument(\"--no-sandbox\")\n",
        "  options.add_argument(\"--disable-dev-shm-usage\")\n",
        "\n",
        "  temp_profile = tempfile.mkdtemp()\n",
        "  options.add_argument(f\"--user-data-dir={temp_profile}\")\n",
        "\n",
        "  driver = webdriver.Chrome(options=options)\n",
        "\n",
        "  return driver"
      ],
      "metadata": {
        "id": "Gd2jNh-Ufb66"
      },
      "execution_count": 333,
      "outputs": []
    },
    {
      "cell_type": "code",
      "source": [
        "def detect_footer_year(soup):\n",
        "    text = soup.get_text(separator=' ')\n",
        "    years = re.findall(r\"\\b(19|20)\\d{2}\\b\", text)\n",
        "    years = [int(y) for y in years if int(y) <= 2025]\n",
        "    return max(years) if years else None"
      ],
      "metadata": {
        "id": "L-LtZIbUgDhx"
      },
      "execution_count": 334,
      "outputs": []
    },
    {
      "cell_type": "code",
      "source": [
        "def detect_last_blog_post(soup):\n",
        "    dates = []\n",
        "\n",
        "    for tag in soup.find_all(\"time\"):\n",
        "        if tag.has_attr(\"datetime\"):\n",
        "            date = tag[\"datetime\"]\n",
        "            if re.match(r\"\\d{4}-\\d{2}-\\d{2}\", date):\n",
        "                dates.append(date)\n",
        "\n",
        "    for link in soup.find_all('a', href=True):\n",
        "        match = re.search(r'(\\d{4})[-/](\\d{2})[-/](\\d{2})', link['href'])\n",
        "        if match:\n",
        "            dates.append(\"-\".join(match.groups()))\n",
        "\n",
        "    return max(dates) if dates else None"
      ],
      "metadata": {
        "id": "fMH-NTjJgRaT"
      },
      "execution_count": 335,
      "outputs": []
    },
    {
      "cell_type": "code",
      "source": [
        "def detect_keywords(text, keywords):\n",
        "  return [kw for kw in keywords if kw.lower() in text.lower()]"
      ],
      "metadata": {
        "id": "EtidrqAigq8l"
      },
      "execution_count": 336,
      "outputs": []
    },
    {
      "cell_type": "code",
      "source": [
        "def detect_internal_links(soup, substrings):\n",
        "    matches = []\n",
        "    for link in soup.find_all(\"a\", href=True):\n",
        "        href = link[\"href\"].lower()\n",
        "        if any(sub in href for sub in substrings):\n",
        "            matches.append(href)\n",
        "    return matches"
      ],
      "metadata": {
        "id": "pFu5fqmE6nQ_"
      },
      "execution_count": 337,
      "outputs": []
    },
    {
      "cell_type": "code",
      "source": [
        "TECH_FINGERPRINTS = {\n",
        "    \"HubSpot\": [\"js.hs-scripts.com\", \"forms.hsforms.com\", \"hs-analytics\"],\n",
        "    \"Salesforce\": [\"salesforce.com\", \"pardot.com\"],\n",
        "    \"Marketo\": [\"mktoweb.com\"],\n",
        "    \"Shopify\": [\"cdn.shopify.com\", \"Shopify.theme\"],\n",
        "    \"WooCommerce\": [\"/wp-content/plugins/woocommerce\"],\n",
        "    \"Magento\": [\"mage.js\", \"Magento_\"],\n",
        "    \"Google Analytics\": [\"google-analytics.com\", \"gtag/js\"],\n",
        "    \"Hotjar\": [\"hotjar.com\", \"hj.js\"],\n",
        "    \"Segment\": [\"cdn.segment.com\"],\n",
        "    \"WordPress\": [\"/wp-content/\", \"/wp-includes/\"],\n",
        "    \"Wix\": [\"wix.com\", \"static.parastorage.com\"],\n",
        "    \"Squarespace\": [\"squarespace.com\"],\n",
        "    \"Intercom\": [\"widget.intercom.io\"],\n",
        "    \"Zendesk\": [\"zendesk.com\", \"zdassets.com\"],\n",
        "    \"Drift\": [\"js.driftt.com\"],\n",
        "}"
      ],
      "metadata": {
        "id": "eZSXvhM5ifkf"
      },
      "execution_count": 338,
      "outputs": []
    },
    {
      "cell_type": "code",
      "source": [
        "def detect_tech_stack(html):\n",
        "  tech_stack = []\n",
        "  html_lower = html.lower()\n",
        "  for tech, fingerprints in TECH_FINGERPRINTS.items():\n",
        "    if any(f.lower() in html_lower for f in fingerprints):\n",
        "      tech_stack.append(tech)\n",
        "\n",
        "  return tech_stack"
      ],
      "metadata": {
        "id": "sdOCJ8qYgzbN"
      },
      "execution_count": 339,
      "outputs": []
    },
    {
      "cell_type": "code",
      "source": [
        "def scrape_signals(url, driver):\n",
        "    try:\n",
        "        driver.get(url)\n",
        "        WebDriverWait(driver, 10).until(EC.presence_of_element_located((By.TAG_NAME, \"body\")))\n",
        "        driver.execute_script(\"window.scrollTo(0, document.body.scrollHeight);\")\n",
        "        time.sleep(2)\n",
        "\n",
        "        html = driver.page_source\n",
        "        soup = BeautifulSoup(html, 'lxml')\n",
        "        text = soup.get_text(separator=' ', strip=True)\n",
        "\n",
        "        growth_keywords = [\"careers\", \"we're hiring\", \"join our team\", \"job openings\", \"now hiring\", \"open roles\"]\n",
        "        stability_keywords = [\"family-owned\", \"since\", \"established\", \"founded in\", \"legacy\", \"serving since\", \"tradition\"]\n",
        "\n",
        "        return {\n",
        "            \"url\": url,\n",
        "            \"tech_stack\": detect_tech_stack(html),\n",
        "            \"neglect_signals\": {\n",
        "                \"footer_year\": detect_footer_year(soup),\n",
        "                \"last_blog_post\": detect_last_blog_post(soup)\n",
        "            },\n",
        "            \"stability_signals\": (\n",
        "                detect_keywords(text, stability_keywords) +\n",
        "                detect_internal_links(soup, [\"about\", \"history\", \"legacy\"])\n",
        "            ),\n",
        "            \"growth_signals\": (\n",
        "                detect_keywords(text, growth_keywords) +\n",
        "                detect_internal_links(soup, [\"careers\", \"jobs\", \"join\"])\n",
        "            )\n",
        "        }\n",
        "    except Exception as e:\n",
        "        print(f\"Error scraping {url}: {e}\")\n",
        "        return None"
      ],
      "metadata": {
        "id": "2Xbw02OlhTg6"
      },
      "execution_count": 340,
      "outputs": []
    },
    {
      "cell_type": "code",
      "source": [
        "def build_gemini_fit_score_prompt(web_signals):\n",
        "  return f\"\"\"\n",
        "    You are an M&A analyst. Evaluate this business based on web signals.\n",
        "\n",
        "    Return a single number from 1 to 10 that represents how good of a fit this business is for acquisition (10 = very attractive, 1 = poor target).\n",
        "\n",
        "    Web signals:\n",
        "    - Tech Stack: {web_signals['tech_stack']}\n",
        "    - Neglect Signals: {web_signals['neglect_signals']}\n",
        "    - Stability Signals: {web_signals['stability_signals']}\n",
        "    - Growth Signals: {web_signals['growth_signals']}\n",
        "\n",
        "    Respond with only a single number between 1 and 10.\n",
        "  \"\"\""
      ],
      "metadata": {
        "id": "fO_Zs9iUswTt"
      },
      "execution_count": 341,
      "outputs": []
    },
    {
      "cell_type": "code",
      "source": [
        "def build_deal_memo_prompt(data):\n",
        "  return f\"\"\"\n",
        "    You are an M&A analyst. Based on the following web signals from a company, generate a 2–4 sentence investment memo explaining whether this company could be a good acquisition opportunity. Mention any signs of neglect, stability, or growth, and justify your opinion.\n",
        "\n",
        "    Here is the data:\n",
        "    - URL: {data['url']}\n",
        "    - Tech Stack: {data.get('tech_stack')}\n",
        "    - Neglect Signals: {data.get('neglect_signals')}\n",
        "    - Stability Signals: {data.get('stability_signals')}\n",
        "    - Growth Signals: {data.get('growth_signals')}\n",
        "    - Fit Score: {data.get('fit_score')}\n",
        "\n",
        "    Output:\n",
        "  \"\"\""
      ],
      "metadata": {
        "id": "Fn-lFsrF8VVl"
      },
      "execution_count": 342,
      "outputs": []
    },
    {
      "cell_type": "code",
      "source": [
        "def build_outreach_prompt(data):\n",
        "  return f\"\"\"\n",
        "    You are a search fund associate who identifies and reaches out to small business owners about potential acquisitions.\n",
        "\n",
        "    Based on the following web data, write a short, authentic outreach email. Keep it professional, warm, and non-pushy. The email should be 4-6 sentences. Do not sell anything — the goal is to start a conversation.\n",
        "\n",
        "    Company Info:\n",
        "    - URL: {data['url']}\n",
        "    - Tech Stack: {data.get('tech_stack')}\n",
        "    - Neglect Signals: {data.get('neglect_signals')}\n",
        "    - Stability Signals: {data.get('stability_signals')}\n",
        "    - Growth Signals: {data.get('growth_signals')}\n",
        "    - Fit Score: {data.get('fit_score')}\n",
        "    - Deal Memo: {data.get('deal_memo')}\n",
        "\n",
        "    Output just the email body (no subject line or extra text).\n",
        "  \"\"\""
      ],
      "metadata": {
        "id": "4SFdFKZZ9pfg"
      },
      "execution_count": 343,
      "outputs": []
    },
    {
      "cell_type": "code",
      "source": [
        "def get_fit_score_from_gemini(web_signals):\n",
        "  prompt = build_gemini_fit_score_prompt(web_signals)\n",
        "\n",
        "  model = genai.GenerativeModel(\"gemini-2.5-flash\")\n",
        "  response = model.generate_content(prompt)\n",
        "\n",
        "  try:\n",
        "    score = int(response.text.strip())\n",
        "    return max(1, min(score, 10))\n",
        "  except Exception as e:\n",
        "    print(\"Gemini Error:\", e, \"Response:\", response.text)\n",
        "    return None"
      ],
      "metadata": {
        "id": "-oKPzFuks_J7"
      },
      "execution_count": 344,
      "outputs": []
    },
    {
      "cell_type": "code",
      "source": [
        "def get_deal_memo_from_gemini(data):\n",
        "  prompt = build_deal_memo_prompt(data)\n",
        "  model = genai.GenerativeModel(\"gemini-2.5-flash\")\n",
        "  response = model.generate_content(prompt)\n",
        "\n",
        "  return response.text.strip()"
      ],
      "metadata": {
        "id": "pWFDnL9V8YeE"
      },
      "execution_count": 345,
      "outputs": []
    },
    {
      "cell_type": "code",
      "source": [
        "def get_outreach_email_from_gemini(data: dict):\n",
        "    prompt = build_outreach_prompt(data)\n",
        "    model = genai.GenerativeModel(\"gemini-2.5-flash\")\n",
        "    response = model.generate_content(prompt)\n",
        "    return response.text.strip()"
      ],
      "metadata": {
        "id": "vdW1DBZ990Gh"
      },
      "execution_count": 346,
      "outputs": []
    },
    {
      "cell_type": "code",
      "source": [
        "def batch_scrape(urls):\n",
        "  driver = init_driver()\n",
        "  results = []\n",
        "  for url in tqdm(urls, desc=\"Scraping websites\"):\n",
        "    if not url.startswith(\"http\"):\n",
        "      url = \"http://\" + url\n",
        "    result = scrape_signals(url, driver)\n",
        "    if result is None:\n",
        "      print(f\"Skipping {url}: scrape_signals returned None\")\n",
        "      continue\n",
        "    try:\n",
        "        result[\"fit_score\"] = get_fit_score_from_gemini(result)\n",
        "        result[\"deal_memo\"] = get_deal_memo_from_gemini(result)\n",
        "        result[\"outreach_email\"] = get_outreach_email_from_gemini(result)\n",
        "    except Exception as e:\n",
        "        print(f\"Error generating fit score for {url}: {e}\")\n",
        "        result[\"fit_score\"] = None\n",
        "        result[\"deal_memo\"] = None\n",
        "        result[\"outreach_email\"] = None\n",
        "    results.append(result)\n",
        "\n",
        "  driver.quit()\n",
        "  return results"
      ],
      "metadata": {
        "id": "-jg9LccnlzcC"
      },
      "execution_count": 347,
      "outputs": []
    },
    {
      "cell_type": "code",
      "source": [
        "input_urls = [\n",
        "    \"http://sportsstation.indonetwork.co.id/\",\n",
        "    \"https://mapvisionindo.com/\",\n",
        "    \"https://www.belahdoeren.id/\",\n",
        "    \"http://mangtani.id/\",\n",
        "    \"https://www.caturkartikajaya.co.id/\"\n",
        "]"
      ],
      "metadata": {
        "id": "WR0GS8Q0lUba"
      },
      "execution_count": 348,
      "outputs": []
    },
    {
      "cell_type": "code",
      "source": [
        "driver = init_driver()\n",
        "results = batch_scrape(input_urls)\n",
        "pprint(results)"
      ],
      "metadata": {
        "colab": {
          "base_uri": "https://localhost:8080/",
          "height": 1000
        },
        "id": "WtdCjhUFiSZX",
        "outputId": "f8854845-d218-46c2-92b5-bfa624a16ed9"
      },
      "execution_count": 349,
      "outputs": [
        {
          "output_type": "stream",
          "name": "stderr",
          "text": [
            "Scraping websites:  40%|████      | 2/5 [01:25<02:08, 42.68s/it]ERROR:tornado.access:503 POST /v1beta/models/gemini-2.5-flash:generateContent?%24alt=json%3Benum-encoding%3Dint (127.0.0.1) 4206.58ms\n",
            "Scraping websites:  80%|████████  | 4/5 [03:04<00:45, 45.65s/it]ERROR:tornado.access:503 POST /v1beta/models/gemini-2.5-flash:generateContent?%24alt=json%3Benum-encoding%3Dint (127.0.0.1) 7380.72ms\n",
            "Scraping websites: 100%|██████████| 5/5 [03:56<00:00, 47.39s/it]\n"
          ]
        },
        {
          "output_type": "stream",
          "name": "stdout",
          "text": [
            "[{'deal_memo': 'Based on the web signals, Sports Station '\n",
            "               '(http://sportsstation.indonetwork.co.id/) does not appear to '\n",
            "               'be a viable acquisition opportunity. The extreme neglect is '\n",
            "               'evident from the \"20\" footer year and absence of any recent '\n",
            "               'blog posts, indicating a dormant or unmaintained online '\n",
            "               'presence. While it benefits from the foundational stability of '\n",
            "               'being hosted on the Indonetwork platform, there are no '\n",
            "               'independent growth signals detected. Combined with a very low '\n",
            "               'Fit Score of 2, this entity presents as an unattractive target '\n",
            "               'for acquisition.',\n",
            "  'fit_score': 2,\n",
            "  'growth_signals': [],\n",
            "  'neglect_signals': {'footer_year': 20, 'last_blog_post': None},\n",
            "  'outreach_email': 'Dear [Owner Name],\\n'\n",
            "                    '\\n'\n",
            "                    'My name is [Your Name] and I lead [Your Search Fund '\n",
            "                    'Name], a firm focused on acquiring and growing '\n",
            "                    'established businesses. I recently came across Sports '\n",
            "                    \"Station's profile on Indonetwork and found myself curious \"\n",
            "                    \"to learn more about your operations. We're currently \"\n",
            "                    'exploring opportunities in the sporting goods sector, and '\n",
            "                    \"I'm keen to understand how your business is positioned \"\n",
            "                    'today. Would you be open to a brief, no-pressure phone '\n",
            "                    \"call sometime next week? I'd appreciate the chance to \"\n",
            "                    'introduce myself and learn more about your company.',\n",
            "  'stability_signals': ['https://www.indonetwork.co.id/page/about-us'],\n",
            "  'tech_stack': ['Google Analytics'],\n",
            "  'url': 'http://sportsstation.indonetwork.co.id/'},\n",
            " {'deal_memo': 'Based on web signals, MapVision Indo exhibits clear signs of '\n",
            "               'neglect, including an outdated website footer. The unusual '\n",
            "               'future-dated blog post is more indicative of a system anomaly '\n",
            "               'or lack of recent public content than active engagement, '\n",
            "               'further suggesting the company is not actively maintaining its '\n",
            "               'online presence. With no identified stability or growth '\n",
            "               'signals and a low fit score of 2, this company does not appear '\n",
            "               'to be a compelling acquisition opportunity in its current '\n",
            "               'state, as it suggests a dormant or under-maintained asset.',\n",
            "  'fit_score': 2,\n",
            "  'growth_signals': [],\n",
            "  'neglect_signals': {'footer_year': 20, 'last_blog_post': '2025-06-10'},\n",
            "  'outreach_email': \"My name is [Your Name] and I'm an Associate with [Your \"\n",
            "                    'Search Fund Name], a fund dedicated to acquiring and '\n",
            "                    'building upon established small businesses. I came across '\n",
            "                    'MapVision Indo and was interested to see your work in the '\n",
            "                    'mapping and geospatial sector, which aligns with areas '\n",
            "                    \"we're exploring.\\n\"\n",
            "                    '\\n'\n",
            "                    'We are actively seeking our next acquisition, aiming to '\n",
            "                    'partner with owners who may be considering their next '\n",
            "                    \"steps, whether that's exploring succession or simply a \"\n",
            "                    \"new chapter for their company. Even if you're not \"\n",
            "                    'actively considering a sale, I believe a brief, '\n",
            "                    'confidential conversation could be mutually beneficial. '\n",
            "                    'Would you be open to a quick 15-minute chat sometime in '\n",
            "                    'the coming weeks to explore this further?',\n",
            "  'stability_signals': [],\n",
            "  'tech_stack': ['WooCommerce', 'WordPress'],\n",
            "  'url': 'https://mapvisionindo.com/'},\n",
            " {'deal_memo': 'This company exhibits clear signs of neglect, highlighted by a '\n",
            "               'severely outdated website footer and an absence of recent blog '\n",
            "               'posts. There are no identifiable stability or growth signals, '\n",
            "               'suggesting a stagnant operation with limited future potential. '\n",
            "               'Coupled with a low fit score, this asset does not currently '\n",
            "               'present itself as a compelling acquisition opportunity, as it '\n",
            "               'lacks clear strategic value or apparent upside without '\n",
            "               'significant revitalization efforts.',\n",
            "  'fit_score': 2,\n",
            "  'growth_signals': [],\n",
            "  'neglect_signals': {'footer_year': 20, 'last_blog_post': None},\n",
            "  'outreach_email': 'My name is [Your Name] and I lead [Your Search Fund '\n",
            "                    'Name], a private investment firm focused on acquiring and '\n",
            "                    \"operating small businesses for the long term. I've been \"\n",
            "                    'learning about Belah Doeren and the work you do. We '\n",
            "                    'typically partner with founders who are considering '\n",
            "                    'succession or seeking a long-term strategic partner to '\n",
            "                    'carry their legacy forward. Our goal is to ensure the '\n",
            "                    'continuity and growth of the businesses we acquire, '\n",
            "                    'operating them hands-on. I was hoping you might be open '\n",
            "                    'to a brief, no-pressure call to introduce myself and '\n",
            "                    'learn more about Belah Doeren and your journey.',\n",
            "  'stability_signals': [],\n",
            "  'tech_stack': ['Google Analytics', 'WordPress'],\n",
            "  'url': 'https://www.belahdoeren.id/'},\n",
            " {'deal_memo': 'This company presents a mixed acquisition profile. Significant '\n",
            "               'web neglect, evidenced by an outdated footer and no recent '\n",
            "               \"blog content, contrasts with a clear 'join our team' growth \"\n",
            "               'signal indicating active hiring. This suggests a potentially '\n",
            "               'stable and growing underlying business that operates '\n",
            "               'effectively despite a neglected digital facade, making it an '\n",
            "               'interesting target for further due diligence given its '\n",
            "               'moderate fit score of 3.',\n",
            "  'fit_score': 3,\n",
            "  'growth_signals': ['join our team'],\n",
            "  'neglect_signals': {'footer_year': 20, 'last_blog_post': None},\n",
            "  'outreach_email': \"My name is [Your Name], and I'm with [Your Search Fund \"\n",
            "                    'Name], a firm that acquires and operates established '\n",
            "                    'businesses. I recently came across Mangtani.id and was '\n",
            "                    \"genuinely impressed by the business you've built. It's \"\n",
            "                    \"clear you've established a stable operation, and your \"\n",
            "                    \"team's growth indicates an exciting trajectory.\\n\"\n",
            "                    '\\n'\n",
            "                    'We specialize in partnering with founders who are '\n",
            "                    'considering their next steps, and I was hoping to learn '\n",
            "                    'more about your journey and long-term vision for '\n",
            "                    'Mangtani.id. Would you be open to a brief, introductory '\n",
            "                    \"call sometime next week? Absolutely no pressure if it's \"\n",
            "                    'not the right fit.',\n",
            "  'stability_signals': ['about.html'],\n",
            "  'tech_stack': [],\n",
            "  'url': 'http://mangtani.id/'},\n",
            " {'deal_memo': 'Catur Kartika Jaya appears to be a **questionable acquisition '\n",
            "               \"opportunity** based on its web signals. While the 'tradition' \"\n",
            "               'signal suggests some underlying stability, the company shows '\n",
            "               'significant digital neglect, including an empty tech stack, an '\n",
            "               \"outdated footer from '20', and a complete absence of recent \"\n",
            "               'blog posts or growth initiatives. This indicates a business '\n",
            "               'likely stagnant in its digital presence, making it a poor fit '\n",
            "               'unless the acquirer specifically targets traditional companies '\n",
            "               'requiring extensive digital transformation to unlock value.',\n",
            "  'fit_score': 2,\n",
            "  'growth_signals': [],\n",
            "  'neglect_signals': {'footer_year': 20, 'last_blog_post': None},\n",
            "  'outreach_email': \"My name is [Your Name], and I'm an associate with [Search \"\n",
            "                    'Fund Name]. I came across Catur Kartika Jaya while '\n",
            "                    'researching long-standing, traditional businesses, and '\n",
            "                    \"your company's enduring presence really stood out to me. \"\n",
            "                    \"I'm genuinely impressed by the foundation you've built \"\n",
            "                    'over the years. We typically partner with owners of '\n",
            "                    'established businesses for their next chapter, but my '\n",
            "                    'initial aim is simply to understand your journey and the '\n",
            "                    'local industry landscape. Would you be open to a brief, '\n",
            "                    \"non-committal conversation sometime next week? I'd be \"\n",
            "                    'grateful for the opportunity to learn from your '\n",
            "                    'experience.',\n",
            "  'stability_signals': ['tradition'],\n",
            "  'tech_stack': [],\n",
            "  'url': 'https://www.caturkartikajaya.co.id/'}]\n"
          ]
        }
      ]
    }
  ]
}